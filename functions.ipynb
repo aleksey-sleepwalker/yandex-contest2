{
 "cells": [
  {
   "cell_type": "code",
   "execution_count": null,
   "id": "0c5c480f-024b-4b0c-8b26-5f95c6d547af",
   "metadata": {},
   "outputs": [],
   "source": [
    "'''Функциональное приветствие\n",
    "Большинство задач этой главы ориентировано на отработку навыков по разработке функций.\n",
    "\n",
    "Ваше решение будет использоваться как библиотека.\n",
    "\n",
    "Напишите функцию print_hello, которая принимает имя пользователя и выводит приветствие в стандартный поток вывода.'''\n",
    "\n",
    "\n",
    "def print_hello(name):\n",
    "    print(f'Hello, {name}!')"
   ]
  },
  {
   "cell_type": "code",
   "execution_count": null,
   "id": "fa449566-3041-41da-9636-8af0e57928a0",
   "metadata": {},
   "outputs": [],
   "source": [
    "'''Функциональный НОД\n",
    "Напишите функцию gcd, которая принимает два натуральных числа и возвращает их наибольший общий делитель.'''\n",
    "\n",
    "\n",
    "def gcd(a, b):\n",
    "    if a == b:\n",
    "        return a\n",
    "    while a != 0 and b != 0:\n",
    "        if a > b:\n",
    "            a = a % b\n",
    "        elif b > a:\n",
    "            b = b % a\n",
    "    nod = a + b\n",
    "    return nod"
   ]
  },
  {
   "cell_type": "code",
   "execution_count": null,
   "id": "6d7b81d7-74de-42b4-a00b-e59650aff81a",
   "metadata": {},
   "outputs": [],
   "source": [
    "'''Длина числа\n",
    "Разработайте функцию number_length, которая принимает одно целое число и возвращает его длину без учёта знака.'''\n",
    "\n",
    "\n",
    "def number_length(number):\n",
    "    s = 0\n",
    "    number = abs(number)\n",
    "    while number > 0:\n",
    "        number //= 10\n",
    "        s = s + 1\n",
    "    return s"
   ]
  },
  {
   "cell_type": "code",
   "execution_count": null,
   "id": "3286aeec-d373-4185-976a-6e26a37d8c08",
   "metadata": {},
   "outputs": [],
   "source": [
    "'''Имя of the month\n",
    "Разработайте функцию month, которая принимает номер месяца и обозначение языка (\"ru\", \"en\") \n",
    "и возвращает название заданного месяца в заданном языке с заглавной буквы.'''\n",
    "\n",
    "\n",
    "def month(a, b):\n",
    "    dic = {'en': 'January February March April May June July August September October November December'.split(),\n",
    "    'ru': 'Январь Февраль Март Апрель Май Июнь Июль Август Сентябрь Октябрь Ноябрь Декабрь'.split()}\n",
    "    return dic[b][a - 1]"
   ]
  },
  {
   "cell_type": "code",
   "execution_count": null,
   "id": "f7f6c433-8050-48e7-9b66-b1496d2b4fce",
   "metadata": {},
   "outputs": [],
   "source": [
    "'''Числовая строка\n",
    "Разработайте функцию split_numbers, которая принимает строку целых чисел, \n",
    "разделённых пробелами, и возвращает кортеж из этих чисел.'''\n",
    "\n",
    "\n",
    "ef split_numbers(a):\n",
    "    return tuple(int(i) for i in a.split())"
   ]
  },
  {
   "cell_type": "code",
   "execution_count": null,
   "id": "44cbdf07-2ee3-488a-a4d2-b2f2975464af",
   "metadata": {},
   "outputs": [],
   "source": [
    "'''Модернизация системы вывода\n",
    "Разработайте функцию modern_print, которая принимает строку и выводит её, если она не была выведена ранее.'''\n",
    "\n",
    "\n",
    "x = set()\n",
    "\n",
    "\n",
    "def modern_print(text):\n",
    "    if text not in x:\n",
    "        print(text)\n",
    "        x.add(text)"
   ]
  },
  {
   "cell_type": "code",
   "execution_count": null,
   "id": "d8a81657-873d-4dec-9b08-1a63c5648b07",
   "metadata": {},
   "outputs": [],
   "source": [
    "'''Шахматный «обед»\n",
    "Напишите функцию can_eat, которая принимает положение коня и другой фигуры в виде кортежей из двух координат, \n",
    "а возвращает булево значение: True если конь съедает фигуру и False иначе.'''\n",
    "\n",
    "\n",
    "def can_eat(horse, cell):\n",
    "    x = abs(horse[0] - cell[0])\n",
    "    y = abs(horse[1] - cell[1])\n",
    "    return {x, y} == {1, 2}"
   ]
  },
  {
   "cell_type": "code",
   "execution_count": null,
   "id": "e275a324-c98c-4ad2-b607-5cd4680ed6d2",
   "metadata": {},
   "outputs": [],
   "source": [
    "'''А роза упала на лапу Азора 7.0\n",
    "Напишите функцию is_palindrome, которая принимает натуральное число, строку, \n",
    "кортеж или список, а возвращает логическое значение: True — если передан палиндром, \n",
    "а в противном случае — False.'''\n",
    "\n",
    "\n",
    "def is_palindrome(text):\n",
    "    if type(text) is int:\n",
    "        text = str(text)\n",
    "    test_sp = []\n",
    "    for i in text:\n",
    "        if str(i).isalpha is True:\n",
    "            test_sp.append(i.lower())\n",
    "        elif i != ' ':\n",
    "            test_sp.append(i)\n",
    "    flag = True\n",
    "    q = 0\n",
    "    for j in test_sp:\n",
    "        if j != test_sp[q - 1]:\n",
    "            flag = False\n",
    "            break\n",
    "        else:\n",
    "            q -= 1\n",
    "    return flag"
   ]
  },
  {
   "cell_type": "code",
   "execution_count": null,
   "id": "1868869f-8850-47fc-bc7d-ea6351267f0b",
   "metadata": {},
   "outputs": [],
   "source": [
    "'''Простая задача 5.0\n",
    "Напишите функцию is_prime, которая принимает натуральное число, \n",
    "а возвращает булево значение: True — если переданное число простое, \n",
    "а иначе — False.'''\n",
    "\n",
    "\n",
    "def is_prime(n):\n",
    "    s = 0\n",
    "    p = 0\n",
    "    if n == 2 or n == 3 or n == 5 or n == 7:\n",
    "        return True\n",
    "    elif n == 1 or n % 2 == 0 or n % 3 == 0 or n % 5 == 0:\n",
    "        return False\n",
    "    else:\n",
    "        p = n ** 0.5\n",
    "        for i in range(1, int(p)):\n",
    "            x = n % i\n",
    "            if x == 0:\n",
    "                s = s + 1\n",
    "        if s == 1:\n",
    "            return True\n",
    "        else:\n",
    "            return False"
   ]
  },
  {
   "cell_type": "code",
   "execution_count": null,
   "id": "5bfe4566-7d2d-41eb-8295-b3c85fef41b6",
   "metadata": {},
   "outputs": [],
   "source": [
    "'''Слияние\n",
    "Напишите функцию merge, которая принимает два отсортированных по возрастанию кортежа целых чисел, \n",
    "а возвращает один из всех переданных чисел.'''\n",
    "\n",
    "\n",
    "def merge(a, b):\n",
    "    x = list(a)\n",
    "    y = list(b)\n",
    "    x += y\n",
    "    fin = []\n",
    "    while len(x) != 0:\n",
    "        min_num = x[0]\n",
    "        for i in x:\n",
    "            if i < min_num:\n",
    "                min_num = i\n",
    "        fin.append(min_num)\n",
    "        x.remove(min_num)\n",
    "    return tuple(fin)"
   ]
  }
 ],
 "metadata": {
  "kernelspec": {
   "display_name": "Python 3 (ipykernel)",
   "language": "python",
   "name": "python3"
  },
  "language_info": {
   "codemirror_mode": {
    "name": "ipython",
    "version": 3
   },
   "file_extension": ".py",
   "mimetype": "text/x-python",
   "name": "python",
   "nbconvert_exporter": "python",
   "pygments_lexer": "ipython3",
   "version": "3.11.7"
  }
 },
 "nbformat": 4,
 "nbformat_minor": 5
}
